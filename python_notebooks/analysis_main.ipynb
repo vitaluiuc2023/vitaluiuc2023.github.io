{
 "cells": [
  {
   "cell_type": "code",
   "execution_count": 4,
   "metadata": {},
   "outputs": [],
   "source": [
    "import pandas as pd\n",
    "import altair as alt\n",
    "import ipywidgets as widgets\n",
    "from IPython.display import display, clear_output\n",
    "\n",
    "df = pd.read_csv('https://raw.githubusercontent.com/UIUC-iSchool-DataViz/is445_data/main/building_inventory.csv')\n",
    "\n",
    "df = df[df['City'].isin(['Urbana', 'Champaign'])]"
   ]
  },
  {
   "cell_type": "code",
   "execution_count": null,
   "metadata": {},
   "outputs": [
    {
     "data": {
      "application/vnd.jupyter.widget-view+json": {
       "model_id": "38d8c03b54614927ba3e258774238d80",
       "version_major": 2,
       "version_minor": 0
      },
      "text/plain": [
       "Dropdown(description='Year Range:', options=(('Select a range', None), ('1870-1879', (1870, 1880)), ('1880-188…"
      ]
     },
     "metadata": {},
     "output_type": "display_data"
    },
    {
     "data": {
      "application/vnd.jupyter.widget-view+json": {
       "model_id": "73358f1209c4474ab598ed465f80c843",
       "version_major": 2,
       "version_minor": 0
      },
      "text/plain": [
       "Dropdown(description='Color Scheme:', options=('Select a color scheme', 'darkred', 'darkgold', 'darkgreen', 'p…"
      ]
     },
     "metadata": {},
     "output_type": "display_data"
    },
    {
     "data": {
      "application/vnd.jupyter.widget-view+json": {
       "model_id": "7778ff92bce84ad7bf58c67490bd87a0",
       "version_major": 2,
       "version_minor": 0
      },
      "text/plain": [
       "Output()"
      ]
     },
     "metadata": {},
     "output_type": "display_data"
    }
   ],
   "source": [
    "# year ranges \n",
    "\n",
    "year_ranges = []\n",
    "for start in range(1870, 2020, 10):\n",
    "    end = start + 10\n",
    "    year_ranges.append((f'{start}-{end-1}', (start, end)))\n",
    "\n",
    "range_widget = widgets.Dropdown(\n",
    "    options=[(\"Select a range\", None)] + year_ranges,\n",
    "    description='Year Range:'\n",
    ")\n",
    "\n",
    "# color scheme \n",
    "\n",
    "color_schemes = [ \"darkred\",\"darkgold\", \"darkgreen\", \"plasma\", \"inferno\",\"magma\"]\n",
    "color_widget = widgets.Dropdown(\n",
    "    options=[\"Select a color scheme\"] + color_schemes,\n",
    "    description='Color Scheme:'\n",
    ")\n",
    "\n",
    "\n",
    "output = widgets.Output()\n",
    "\n",
    "def update_chart(year_range, color_scheme):\n",
    "    with output:\n",
    "        clear_output()\n",
    "        if year_range is None or color_scheme == \"Select a color scheme\":\n",
    "            display(\"Select a decade and color mapping scheme of your choice\")\n",
    "            return # break \n",
    "        \n",
    "        # continue \n",
    "        start, end = year_range\n",
    "        df_filtered = df[(df['Year Constructed'] >= start) & (df['Year Constructed'] < end)]\n",
    "        \n",
    "        bars = df_filtered.groupby(['Year Constructed', 'Usage Description']).size().reset_index(name='Count')\n",
    "\n",
    "        chart = alt.Chart(bars).mark_bar().encode(\n",
    "            x=alt.X('Year Constructed:O', title='Year', axis=alt.Axis(labelAngle=-45)),\n",
    "            y=alt.Y('sum(Count):Q', title='Total Buildings'),\n",
    "            color=alt.Color('Usage Description:N', scale=alt.Scale(scheme=color_scheme), title='Use Description'),\n",
    "            tooltip=['Year Constructed:O', 'sum(Count):Q', 'Usage Description:N']\n",
    "        ).properties(\n",
    "            width=600,\n",
    "            height=400,\n",
    "            title=f'Buildings Constructed In U-C Area By Year Constructed And Their Use {start}-{end-1}'\n",
    "        )\n",
    "        \n",
    "        display(chart)\n",
    "        chart.save('../assets/json/line_chart.json')\n",
    "def on_change(change):\n",
    "    if change['type'] == 'change' and change['name'] == 'value':\n",
    "        update_chart(range_widget.value, color_widget.value)\n",
    "\n",
    "\n",
    "\n",
    "\n",
    "range_widget.observe(on_change)\n",
    "color_widget.observe(on_change)\n",
    "\n",
    "\n",
    "display(range_widget)\n",
    "display(color_widget)\n",
    "display(output)\n",
    "\n",
    "\n",
    "with output:\n",
    "    display(\"Select a decade and color mapping scheme of your choice\")\n",
    "    \n"
   ]
  },
  {
   "cell_type": "code",
   "execution_count": 8,
   "metadata": {},
   "outputs": [
    {
     "data": {
      "text/html": [
       "\n",
       "<style>\n",
       "  #altair-viz-04bc6e05fc0d479d8cd37934328ac7a4.vega-embed {\n",
       "    width: 100%;\n",
       "    display: flex;\n",
       "  }\n",
       "\n",
       "  #altair-viz-04bc6e05fc0d479d8cd37934328ac7a4.vega-embed details,\n",
       "  #altair-viz-04bc6e05fc0d479d8cd37934328ac7a4.vega-embed details summary {\n",
       "    position: relative;\n",
       "  }\n",
       "</style>\n",
       "<div id=\"altair-viz-04bc6e05fc0d479d8cd37934328ac7a4\"></div>\n",
       "<script type=\"text/javascript\">\n",
       "  var VEGA_DEBUG = (typeof VEGA_DEBUG == \"undefined\") ? {} : VEGA_DEBUG;\n",
       "  (function(spec, embedOpt){\n",
       "    let outputDiv = document.currentScript.previousElementSibling;\n",
       "    if (outputDiv.id !== \"altair-viz-04bc6e05fc0d479d8cd37934328ac7a4\") {\n",
       "      outputDiv = document.getElementById(\"altair-viz-04bc6e05fc0d479d8cd37934328ac7a4\");\n",
       "    }\n",
       "    const paths = {\n",
       "      \"vega\": \"https://cdn.jsdelivr.net/npm/vega@5?noext\",\n",
       "      \"vega-lib\": \"https://cdn.jsdelivr.net/npm/vega-lib?noext\",\n",
       "      \"vega-lite\": \"https://cdn.jsdelivr.net/npm/vega-lite@5.20.1?noext\",\n",
       "      \"vega-embed\": \"https://cdn.jsdelivr.net/npm/vega-embed@6?noext\",\n",
       "    };\n",
       "\n",
       "    function maybeLoadScript(lib, version) {\n",
       "      var key = `${lib.replace(\"-\", \"\")}_version`;\n",
       "      return (VEGA_DEBUG[key] == version) ?\n",
       "        Promise.resolve(paths[lib]) :\n",
       "        new Promise(function(resolve, reject) {\n",
       "          var s = document.createElement('script');\n",
       "          document.getElementsByTagName(\"head\")[0].appendChild(s);\n",
       "          s.async = true;\n",
       "          s.onload = () => {\n",
       "            VEGA_DEBUG[key] = version;\n",
       "            return resolve(paths[lib]);\n",
       "          };\n",
       "          s.onerror = () => reject(`Error loading script: ${paths[lib]}`);\n",
       "          s.src = paths[lib];\n",
       "        });\n",
       "    }\n",
       "\n",
       "    function showError(err) {\n",
       "      outputDiv.innerHTML = `<div class=\"error\" style=\"color:red;\">${err}</div>`;\n",
       "      throw err;\n",
       "    }\n",
       "\n",
       "    function displayChart(vegaEmbed) {\n",
       "      vegaEmbed(outputDiv, spec, embedOpt)\n",
       "        .catch(err => showError(`Javascript Error: ${err.message}<br>This usually means there's a typo in your chart specification. See the javascript console for the full traceback.`));\n",
       "    }\n",
       "\n",
       "    if(typeof define === \"function\" && define.amd) {\n",
       "      requirejs.config({paths});\n",
       "      require([\"vega-embed\"], displayChart, err => showError(`Error loading script: ${err.message}`));\n",
       "    } else {\n",
       "      maybeLoadScript(\"vega\", \"5\")\n",
       "        .then(() => maybeLoadScript(\"vega-lite\", \"5.20.1\"))\n",
       "        .then(() => maybeLoadScript(\"vega-embed\", \"6\"))\n",
       "        .catch(showError)\n",
       "        .then(() => displayChart(vegaEmbed));\n",
       "    }\n",
       "  })({\"config\": {\"view\": {\"continuousWidth\": 300, \"continuousHeight\": 300}}, \"layer\": [{\"mark\": {\"type\": \"line\", \"point\": true, \"strokeWidth\": 3}, \"encoding\": {\"tooltip\": [{\"field\": \"Decade\", \"type\": \"ordinal\"}, {\"field\": \"Square Footage\", \"type\": \"quantitative\"}], \"x\": {\"axis\": {\"labelAngle\": -45}, \"field\": \"Decade\", \"title\": \"Decade\", \"type\": \"ordinal\"}, \"y\": {\"field\": \"Square Footage\", \"title\": \"Total Square Footage\", \"type\": \"quantitative\"}}, \"title\": \"Total Square Footage of Buildings by Decade\"}, {\"mark\": {\"type\": \"area\", \"color\": \"blue\", \"opacity\": 0.3}, \"encoding\": {\"x\": {\"field\": \"Decade\", \"type\": \"ordinal\"}, \"y\": {\"field\": \"Square Footage\", \"type\": \"quantitative\"}}}], \"data\": {\"name\": \"data-613122b647c79c312c02c466324a5f02\"}, \"height\": 400, \"width\": 600, \"$schema\": \"https://vega.github.io/schema/vega-lite/v5.20.1.json\", \"datasets\": {\"data-613122b647c79c312c02c466324a5f02\": [{\"Decade\": 0, \"Square Footage\": 2000}, {\"Decade\": 1870, \"Square Footage\": 33071}, {\"Decade\": 1890, \"Square Footage\": 352115}, {\"Decade\": 1900, \"Square Footage\": 865029}, {\"Decade\": 1910, \"Square Footage\": 1069082}, {\"Decade\": 1920, \"Square Footage\": 1686577}, {\"Decade\": 1930, \"Square Footage\": 362974}, {\"Decade\": 1940, \"Square Footage\": 1072133}, {\"Decade\": 1950, \"Square Footage\": 1622400}, {\"Decade\": 1960, \"Square Footage\": 3092126}, {\"Decade\": 1970, \"Square Footage\": 1128555}, {\"Decade\": 1980, \"Square Footage\": 1053050}, {\"Decade\": 1990, \"Square Footage\": 721600}, {\"Decade\": 2000, \"Square Footage\": 445046}, {\"Decade\": 2010, \"Square Footage\": 268065}]}}, {\"mode\": \"vega-lite\"});\n",
       "</script>"
      ],
      "text/plain": [
       "alt.LayerChart(...)"
      ]
     },
     "metadata": {},
     "output_type": "display_data"
    }
   ],
   "source": [
    "\n",
    "df['Decade'] = (df['Year Constructed'] // 10) * 10\n",
    "\n",
    "agg_data = df.groupby('Decade')['Square Footage'].sum().reset_index()\n",
    "\n",
    "line_plot = alt.Chart(agg_data).mark_line(point=True, strokeWidth=3).encode(\n",
    "    x=alt.X('Decade:O', title='Decade', axis=alt.Axis(labelAngle=-45)),\n",
    "    y=alt.Y('Square Footage:Q', title='Total Square Footage'),\n",
    "    tooltip=['Decade:O', 'Square Footage:Q']\n",
    ").properties(\n",
    "    width=600,\n",
    "    height=400,\n",
    "    title='Total Square Footage of Buildings by Decade'\n",
    ") + alt.Chart(agg_data).mark_area(opacity=0.3, color='blue').encode(\n",
    "    x=alt.X('Decade:O'),\n",
    "    y=alt.Y('Square Footage:Q')\n",
    ")\n",
    "\n",
    "line_plot.display()\n",
    "line_plot.save('../assets/json/line_chart.json')"
   ]
  },
  {
   "cell_type": "code",
   "execution_count": null,
   "metadata": {},
   "outputs": [],
   "source": []
  }
 ],
 "metadata": {
  "kernelspec": {
   "display_name": "Python 3",
   "language": "python",
   "name": "python3"
  },
  "language_info": {
   "codemirror_mode": {
    "name": "ipython",
    "version": 3
   },
   "file_extension": ".py",
   "mimetype": "text/x-python",
   "name": "python",
   "nbconvert_exporter": "python",
   "pygments_lexer": "ipython3",
   "version": "3.12.2"
  }
 },
 "nbformat": 4,
 "nbformat_minor": 2
}
